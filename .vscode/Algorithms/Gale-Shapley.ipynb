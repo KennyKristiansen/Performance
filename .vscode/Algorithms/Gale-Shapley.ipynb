{
 "cells": [
  {
   "cell_type": "markdown",
   "metadata": {},
   "source": [
    "Description of algorithm testsetup\n",
    "page 28 og Algorithm Design\n",
    "\n",
    "initially all m ∊ M and w ∊ W are free\n",
    "While there is a man m who is free and hasn't proposed to every woman\n",
    "Choose such a man m\n",
    "Let w be the highest-ranked woman in m's preference list to whom m has not yet proposed\n",
    "If w is free then\n",
    "   (m, w) become engaged\n",
    "Else w is currently engaged to m′\n",
    "   If w prefers m′ to m then\n",
    "      m remains free\n",
    "   Else w prefers m to m′\n",
    "      (m,w) become engaged\n",
    "      m′ becomes free\n",
    "   Endif\n",
    "Endif\n",
    "Endwhile\n",
    "Return the set S of engaged pairs"
   ]
  },
  {
   "cell_type": "code",
   "execution_count": 6,
   "metadata": {},
   "outputs": [],
   "source": [
    "\"\"\"Populate testdata\"\"\"\n",
    "\n",
    "import random\n",
    "from typing import Any\n",
    "\n",
    "\n",
    "class Person:\n",
    "    def __init__(self, ID: int) -> None:\n",
    "        self.preferences: list[int] = []\n",
    "        self.peopleCount: int = 0\n",
    "        self.ID = ID\n",
    "\n",
    "    def populate_preferences(self):\n",
    "        for random_number in random.sample(\n",
    "            range(1, self.peopleCount + 1), self.peopleCount\n",
    "        ):\n",
    "            self.preferences.append(random_number)\n",
    "\n",
    "\n",
    "class gender:\n",
    "    def __init__(self) -> None:\n",
    "        self.people: dict[int, list[Any]] = {}\n",
    "\n",
    "\n",
    "peoplecount = 10\n",
    "men = gender()\n",
    "for id in range(peoplecount):\n",
    "    person = Person(id + 1)\n",
    "    person.peopleCount = peoplecount\n",
    "    person.populate_preferences()\n",
    "    men.people[person.ID] = [0, person.preferences]\n",
    "\n",
    "\n",
    "women = gender()\n",
    "for id in range(peoplecount):\n",
    "    person = Person(id + 1)\n",
    "    person.peopleCount = peoplecount\n",
    "    person.populate_preferences()\n",
    "    women.people[person.ID] = [0, person.preferences]"
   ]
  },
  {
   "cell_type": "code",
   "execution_count": 19,
   "metadata": {},
   "outputs": [
    {
     "name": "stdout",
     "output_type": "stream",
     "text": [
      "1: man 10, woman 5\n",
      "2: man 8, woman 10\n",
      "3: man 9, woman 8\n",
      "4: man 7, woman 9\n",
      "5: man 1, woman 7\n",
      "6: man 6, woman 6\n",
      "7: man 5, woman 4\n",
      "8: man 3, woman 2\n",
      "9: man 4, woman 3\n",
      "10: man 2, woman 1\n"
     ]
    }
   ],
   "source": [
    "\"\"\" Run Gale-shapley algorithm on created testset\"\"\"\n",
    "\n",
    "married = 0\n",
    "\n",
    "while married != 10:\n",
    "    married = 0\n",
    "    for m in men.people:\n",
    "        if men.people[m][0] == 0:\n",
    "            man_preference = men.people[m][1][0]\n",
    "            current_w_engagement = women.people[man_preference][0]\n",
    "            w_preferences = women.people[man_preference][1]\n",
    "\n",
    "            if current_w_engagement == 0:\n",
    "                men.people[m][0] = man_preference\n",
    "                women.people[man_preference][0] = m\n",
    "\n",
    "            # not married\n",
    "            elif current_w_engagement != 0:\n",
    "                # check man against womans preferences\n",
    "                for preference in w_preferences:\n",
    "                    if preference == current_w_engagement:\n",
    "                        break\n",
    "\n",
    "                    elif preference == m:\n",
    "                        men.people[current_w_engagement][0] = 0\n",
    "                        men.people[m][0] = man_preference\n",
    "                        women.people[man_preference][0] = m\n",
    "                        break\n",
    "                    else:\n",
    "                        continue\n",
    "            men.people[m][1].pop(0)\n",
    "    for m in men.people:\n",
    "        if men.people[m][0] != 0:\n",
    "            married += 1\n",
    "\n",
    "for k in men.people:\n",
    "    print(f\"{k}: man {men.people[k][0]}, woman {women.people[k][0]}\")"
   ]
  }
 ],
 "metadata": {
  "interpreter": {
   "hash": "f1cbd2c1ebec57118c9d1a20ed82caf47ef35066f587f8e9716935707992507d"
  },
  "kernelspec": {
   "display_name": "Python 3.9.13 64-bit (windows store)",
   "language": "python",
   "name": "python3"
  },
  "language_info": {
   "codemirror_mode": {
    "name": "ipython",
    "version": 3
   },
   "file_extension": ".py",
   "mimetype": "text/x-python",
   "name": "python",
   "nbconvert_exporter": "python",
   "pygments_lexer": "ipython3",
   "version": "3.9.13"
  },
  "orig_nbformat": 4
 },
 "nbformat": 4,
 "nbformat_minor": 2
}
